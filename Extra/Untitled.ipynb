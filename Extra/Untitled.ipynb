{
 "cells": [
  {
   "cell_type": "markdown",
   "metadata": {},
   "source": [
    "## With OHE and Scaling"
   ]
  },
  {
   "cell_type": "code",
   "execution_count": 1,
   "metadata": {},
   "outputs": [],
   "source": [
    "import pandas as pd\n",
    "import seaborn as sns\n",
    "import matplotlib.pyplot as plt"
   ]
  },
  {
   "cell_type": "code",
   "execution_count": 2,
   "metadata": {},
   "outputs": [
    {
     "data": {
      "text/html": [
       "<div>\n",
       "<style scoped>\n",
       "    .dataframe tbody tr th:only-of-type {\n",
       "        vertical-align: middle;\n",
       "    }\n",
       "\n",
       "    .dataframe tbody tr th {\n",
       "        vertical-align: top;\n",
       "    }\n",
       "\n",
       "    .dataframe thead th {\n",
       "        text-align: right;\n",
       "    }\n",
       "</style>\n",
       "<table border=\"1\" class=\"dataframe\">\n",
       "  <thead>\n",
       "    <tr style=\"text-align: right;\">\n",
       "      <th></th>\n",
       "      <th>Company</th>\n",
       "      <th>Memory_Structure_Categories</th>\n",
       "      <th>Gpu_Type</th>\n",
       "      <th>Gpu_Company</th>\n",
       "      <th>OpSys</th>\n",
       "      <th>Cpu_Company</th>\n",
       "      <th>Inches</th>\n",
       "      <th>CPU_Frequency_Numeric</th>\n",
       "      <th>Ram_Numeric</th>\n",
       "      <th>Size_Numeric</th>\n",
       "      <th>Weight_Numberic</th>\n",
       "      <th>Price_dollars</th>\n",
       "    </tr>\n",
       "  </thead>\n",
       "  <tbody>\n",
       "    <tr>\n",
       "      <th>0</th>\n",
       "      <td>Asus</td>\n",
       "      <td>Hybrid</td>\n",
       "      <td>GeForce GTX 1080</td>\n",
       "      <td>Nvidia</td>\n",
       "      <td>Windows 10</td>\n",
       "      <td>Intel</td>\n",
       "      <td>17.3</td>\n",
       "      <td>2.9</td>\n",
       "      <td>32</td>\n",
       "      <td>512</td>\n",
       "      <td>4.7</td>\n",
       "      <td>4279</td>\n",
       "    </tr>\n",
       "    <tr>\n",
       "      <th>1</th>\n",
       "      <td>Lenovo</td>\n",
       "      <td>Hybrid</td>\n",
       "      <td>GeForce GTX 980M</td>\n",
       "      <td>Nvidia</td>\n",
       "      <td>Windows 10</td>\n",
       "      <td>Intel</td>\n",
       "      <td>17.3</td>\n",
       "      <td>2.7</td>\n",
       "      <td>32</td>\n",
       "      <td>512</td>\n",
       "      <td>4.6</td>\n",
       "      <td>3564</td>\n",
       "    </tr>\n",
       "    <tr>\n",
       "      <th>2</th>\n",
       "      <td>Lenovo</td>\n",
       "      <td>Hybrid</td>\n",
       "      <td>GeForce GTX 980M</td>\n",
       "      <td>Nvidia</td>\n",
       "      <td>Windows 10</td>\n",
       "      <td>Intel</td>\n",
       "      <td>17.3</td>\n",
       "      <td>2.7</td>\n",
       "      <td>16</td>\n",
       "      <td>256</td>\n",
       "      <td>4.6</td>\n",
       "      <td>3025</td>\n",
       "    </tr>\n",
       "    <tr>\n",
       "      <th>3</th>\n",
       "      <td>Lenovo</td>\n",
       "      <td>Hybrid</td>\n",
       "      <td>GeForce GTX 1070</td>\n",
       "      <td>Nvidia</td>\n",
       "      <td>Windows 10</td>\n",
       "      <td>Intel</td>\n",
       "      <td>17.3</td>\n",
       "      <td>2.7</td>\n",
       "      <td>32</td>\n",
       "      <td>256</td>\n",
       "      <td>4.6</td>\n",
       "      <td>2929</td>\n",
       "    </tr>\n",
       "    <tr>\n",
       "      <th>4</th>\n",
       "      <td>Lenovo</td>\n",
       "      <td>Hybrid</td>\n",
       "      <td>GeForce GTX 980M</td>\n",
       "      <td>Nvidia</td>\n",
       "      <td>Windows 10</td>\n",
       "      <td>Intel</td>\n",
       "      <td>17.3</td>\n",
       "      <td>2.6</td>\n",
       "      <td>16</td>\n",
       "      <td>128</td>\n",
       "      <td>4.6</td>\n",
       "      <td>2519</td>\n",
       "    </tr>\n",
       "  </tbody>\n",
       "</table>\n",
       "</div>"
      ],
      "text/plain": [
       "  Company Memory_Structure_Categories          Gpu_Type Gpu_Company  \\\n",
       "0    Asus                      Hybrid  GeForce GTX 1080      Nvidia   \n",
       "1  Lenovo                      Hybrid  GeForce GTX 980M      Nvidia   \n",
       "2  Lenovo                      Hybrid  GeForce GTX 980M      Nvidia   \n",
       "3  Lenovo                      Hybrid  GeForce GTX 1070      Nvidia   \n",
       "4  Lenovo                      Hybrid  GeForce GTX 980M      Nvidia   \n",
       "\n",
       "        OpSys Cpu_Company  Inches  CPU_Frequency_Numeric  Ram_Numeric  \\\n",
       "0  Windows 10       Intel    17.3                    2.9           32   \n",
       "1  Windows 10       Intel    17.3                    2.7           32   \n",
       "2  Windows 10       Intel    17.3                    2.7           16   \n",
       "3  Windows 10       Intel    17.3                    2.7           32   \n",
       "4  Windows 10       Intel    17.3                    2.6           16   \n",
       "\n",
       "   Size_Numeric  Weight_Numberic  Price_dollars  \n",
       "0           512              4.7           4279  \n",
       "1           512              4.6           3564  \n",
       "2           256              4.6           3025  \n",
       "3           256              4.6           2929  \n",
       "4           128              4.6           2519  "
      ]
     },
     "execution_count": 2,
     "metadata": {},
     "output_type": "execute_result"
    }
   ],
   "source": [
    "# Read\n",
    "\n",
    "csv_path = \"Laptops_Data_clean.csv\"\n",
    "df = pd.read_csv(csv_path,encoding='latin-1')\n",
    "\n",
    "df.head()"
   ]
  },
  {
   "cell_type": "code",
   "execution_count": 3,
   "metadata": {},
   "outputs": [],
   "source": [
    "df = df.drop([\"Gpu_Type\"], axis=1)"
   ]
  },
  {
   "cell_type": "code",
   "execution_count": 4,
   "metadata": {},
   "outputs": [
    {
     "data": {
      "text/html": [
       "<div>\n",
       "<style scoped>\n",
       "    .dataframe tbody tr th:only-of-type {\n",
       "        vertical-align: middle;\n",
       "    }\n",
       "\n",
       "    .dataframe tbody tr th {\n",
       "        vertical-align: top;\n",
       "    }\n",
       "\n",
       "    .dataframe thead th {\n",
       "        text-align: right;\n",
       "    }\n",
       "</style>\n",
       "<table border=\"1\" class=\"dataframe\">\n",
       "  <thead>\n",
       "    <tr style=\"text-align: right;\">\n",
       "      <th></th>\n",
       "      <th>Company</th>\n",
       "      <th>Memory_Structure_Categories</th>\n",
       "      <th>Gpu_Company</th>\n",
       "      <th>OpSys</th>\n",
       "      <th>Cpu_Company</th>\n",
       "      <th>Inches</th>\n",
       "      <th>CPU_Frequency_Numeric</th>\n",
       "      <th>Ram_Numeric</th>\n",
       "      <th>Size_Numeric</th>\n",
       "      <th>Weight_Numberic</th>\n",
       "      <th>Price_dollars</th>\n",
       "    </tr>\n",
       "  </thead>\n",
       "  <tbody>\n",
       "    <tr>\n",
       "      <th>0</th>\n",
       "      <td>Asus</td>\n",
       "      <td>Hybrid</td>\n",
       "      <td>Nvidia</td>\n",
       "      <td>Windows 10</td>\n",
       "      <td>Intel</td>\n",
       "      <td>17.3</td>\n",
       "      <td>2.90</td>\n",
       "      <td>32</td>\n",
       "      <td>512</td>\n",
       "      <td>4.70</td>\n",
       "      <td>4279</td>\n",
       "    </tr>\n",
       "    <tr>\n",
       "      <th>1</th>\n",
       "      <td>Lenovo</td>\n",
       "      <td>Hybrid</td>\n",
       "      <td>Nvidia</td>\n",
       "      <td>Windows 10</td>\n",
       "      <td>Intel</td>\n",
       "      <td>17.3</td>\n",
       "      <td>2.70</td>\n",
       "      <td>32</td>\n",
       "      <td>512</td>\n",
       "      <td>4.60</td>\n",
       "      <td>3564</td>\n",
       "    </tr>\n",
       "    <tr>\n",
       "      <th>2</th>\n",
       "      <td>Lenovo</td>\n",
       "      <td>Hybrid</td>\n",
       "      <td>Nvidia</td>\n",
       "      <td>Windows 10</td>\n",
       "      <td>Intel</td>\n",
       "      <td>17.3</td>\n",
       "      <td>2.70</td>\n",
       "      <td>16</td>\n",
       "      <td>256</td>\n",
       "      <td>4.60</td>\n",
       "      <td>3025</td>\n",
       "    </tr>\n",
       "    <tr>\n",
       "      <th>3</th>\n",
       "      <td>Lenovo</td>\n",
       "      <td>Hybrid</td>\n",
       "      <td>Nvidia</td>\n",
       "      <td>Windows 10</td>\n",
       "      <td>Intel</td>\n",
       "      <td>17.3</td>\n",
       "      <td>2.70</td>\n",
       "      <td>32</td>\n",
       "      <td>256</td>\n",
       "      <td>4.60</td>\n",
       "      <td>2929</td>\n",
       "    </tr>\n",
       "    <tr>\n",
       "      <th>4</th>\n",
       "      <td>Lenovo</td>\n",
       "      <td>Hybrid</td>\n",
       "      <td>Nvidia</td>\n",
       "      <td>Windows 10</td>\n",
       "      <td>Intel</td>\n",
       "      <td>17.3</td>\n",
       "      <td>2.60</td>\n",
       "      <td>16</td>\n",
       "      <td>128</td>\n",
       "      <td>4.60</td>\n",
       "      <td>2519</td>\n",
       "    </tr>\n",
       "    <tr>\n",
       "      <th>...</th>\n",
       "      <td>...</td>\n",
       "      <td>...</td>\n",
       "      <td>...</td>\n",
       "      <td>...</td>\n",
       "      <td>...</td>\n",
       "      <td>...</td>\n",
       "      <td>...</td>\n",
       "      <td>...</td>\n",
       "      <td>...</td>\n",
       "      <td>...</td>\n",
       "      <td>...</td>\n",
       "    </tr>\n",
       "    <tr>\n",
       "      <th>1297</th>\n",
       "      <td>Samsung</td>\n",
       "      <td>SSD</td>\n",
       "      <td>Intel</td>\n",
       "      <td>Windows 10</td>\n",
       "      <td>Intel</td>\n",
       "      <td>13.3</td>\n",
       "      <td>2.50</td>\n",
       "      <td>8</td>\n",
       "      <td>256</td>\n",
       "      <td>0.81</td>\n",
       "      <td>1649</td>\n",
       "    </tr>\n",
       "    <tr>\n",
       "      <th>1298</th>\n",
       "      <td>Lenovo</td>\n",
       "      <td>Flash</td>\n",
       "      <td>Intel</td>\n",
       "      <td>Windows 10</td>\n",
       "      <td>Intel</td>\n",
       "      <td>10.1</td>\n",
       "      <td>1.44</td>\n",
       "      <td>4</td>\n",
       "      <td>64</td>\n",
       "      <td>0.69</td>\n",
       "      <td>711</td>\n",
       "    </tr>\n",
       "    <tr>\n",
       "      <th>1299</th>\n",
       "      <td>Lenovo</td>\n",
       "      <td>Flash</td>\n",
       "      <td>Intel</td>\n",
       "      <td>Android</td>\n",
       "      <td>Intel</td>\n",
       "      <td>10.1</td>\n",
       "      <td>1.44</td>\n",
       "      <td>4</td>\n",
       "      <td>64</td>\n",
       "      <td>0.69</td>\n",
       "      <td>604</td>\n",
       "    </tr>\n",
       "    <tr>\n",
       "      <th>1300</th>\n",
       "      <td>Lenovo</td>\n",
       "      <td>Flash</td>\n",
       "      <td>Intel</td>\n",
       "      <td>Windows 10</td>\n",
       "      <td>Intel</td>\n",
       "      <td>10.1</td>\n",
       "      <td>1.44</td>\n",
       "      <td>4</td>\n",
       "      <td>64</td>\n",
       "      <td>0.69</td>\n",
       "      <td>527</td>\n",
       "    </tr>\n",
       "    <tr>\n",
       "      <th>1301</th>\n",
       "      <td>Lenovo</td>\n",
       "      <td>Flash</td>\n",
       "      <td>Intel</td>\n",
       "      <td>Android</td>\n",
       "      <td>Intel</td>\n",
       "      <td>10.1</td>\n",
       "      <td>1.44</td>\n",
       "      <td>4</td>\n",
       "      <td>64</td>\n",
       "      <td>0.69</td>\n",
       "      <td>351</td>\n",
       "    </tr>\n",
       "  </tbody>\n",
       "</table>\n",
       "<p>1302 rows × 11 columns</p>\n",
       "</div>"
      ],
      "text/plain": [
       "      Company Memory_Structure_Categories Gpu_Company       OpSys Cpu_Company  \\\n",
       "0        Asus                      Hybrid      Nvidia  Windows 10       Intel   \n",
       "1      Lenovo                      Hybrid      Nvidia  Windows 10       Intel   \n",
       "2      Lenovo                      Hybrid      Nvidia  Windows 10       Intel   \n",
       "3      Lenovo                      Hybrid      Nvidia  Windows 10       Intel   \n",
       "4      Lenovo                      Hybrid      Nvidia  Windows 10       Intel   \n",
       "...       ...                         ...         ...         ...         ...   \n",
       "1297  Samsung                         SSD       Intel  Windows 10       Intel   \n",
       "1298   Lenovo                       Flash       Intel  Windows 10       Intel   \n",
       "1299   Lenovo                       Flash       Intel     Android       Intel   \n",
       "1300   Lenovo                       Flash       Intel  Windows 10       Intel   \n",
       "1301   Lenovo                       Flash       Intel     Android       Intel   \n",
       "\n",
       "      Inches  CPU_Frequency_Numeric  Ram_Numeric  Size_Numeric  \\\n",
       "0       17.3                   2.90           32           512   \n",
       "1       17.3                   2.70           32           512   \n",
       "2       17.3                   2.70           16           256   \n",
       "3       17.3                   2.70           32           256   \n",
       "4       17.3                   2.60           16           128   \n",
       "...      ...                    ...          ...           ...   \n",
       "1297    13.3                   2.50            8           256   \n",
       "1298    10.1                   1.44            4            64   \n",
       "1299    10.1                   1.44            4            64   \n",
       "1300    10.1                   1.44            4            64   \n",
       "1301    10.1                   1.44            4            64   \n",
       "\n",
       "      Weight_Numberic  Price_dollars  \n",
       "0                4.70           4279  \n",
       "1                4.60           3564  \n",
       "2                4.60           3025  \n",
       "3                4.60           2929  \n",
       "4                4.60           2519  \n",
       "...               ...            ...  \n",
       "1297             0.81           1649  \n",
       "1298             0.69            711  \n",
       "1299             0.69            604  \n",
       "1300             0.69            527  \n",
       "1301             0.69            351  \n",
       "\n",
       "[1302 rows x 11 columns]"
      ]
     },
     "execution_count": 4,
     "metadata": {},
     "output_type": "execute_result"
    }
   ],
   "source": [
    "df"
   ]
  },
  {
   "cell_type": "code",
   "execution_count": 11,
   "metadata": {},
   "outputs": [
    {
     "name": "stdout",
     "output_type": "stream",
     "text": [
      "(1302, 42) (1302,)\n"
     ]
    }
   ],
   "source": [
    "column_names_for_onehot = df[[\"Company\",\"Cpu_Company\",\"Memory_Structure_Categories\",\"Gpu_Company\",\"OpSys\"]].columns[0:]\n",
    "df_2 = pd.get_dummies(df, columns=column_names_for_onehot)\n",
    "X = df_2.drop([\"Price_dollars\"], axis=1)\n",
    "y = df_2[\"Price_dollars\"]\n",
    "print(X.shape, y.shape)\n",
    "from sklearn.model_selection import train_test_split\n",
    "from sklearn.preprocessing import LabelEncoder, MinMaxScaler\n",
    "from tensorflow.keras.utils import to_categorical\n",
    "X_train, X_test, y_train, y_test = train_test_split(\n",
    "    X, y, random_state=1)\n",
    "X_scaler = MinMaxScaler().fit(X_train)\n",
    "X_train_scaled = X_scaler.transform(X_train)\n",
    "X_test_scaled = X_scaler.transform(X_test)"
   ]
  },
  {
   "cell_type": "code",
   "execution_count": 19,
   "metadata": {},
   "outputs": [
    {
     "name": "stdout",
     "output_type": "stream",
     "text": [
      "R2 Score: 0.6977709309159265\n"
     ]
    }
   ],
   "source": [
    "from sklearn.linear_model import LinearRegression\n",
    "model = LinearRegression()\n",
    "\n",
    "# Fitting our model with all of our features in X\n",
    "model.fit(X_train_scaled, y_train)\n",
    "\n",
    "score = model.score(X_test_scaled, y_test)\n",
    "print(f\"R2 Score: {score}\")"
   ]
  },
  {
   "cell_type": "code",
   "execution_count": 46,
   "metadata": {},
   "outputs": [
    {
     "data": {
      "text/html": [
       "<div>\n",
       "<style scoped>\n",
       "    .dataframe tbody tr th:only-of-type {\n",
       "        vertical-align: middle;\n",
       "    }\n",
       "\n",
       "    .dataframe tbody tr th {\n",
       "        vertical-align: top;\n",
       "    }\n",
       "\n",
       "    .dataframe thead th {\n",
       "        text-align: right;\n",
       "    }\n",
       "</style>\n",
       "<table border=\"1\" class=\"dataframe\">\n",
       "  <thead>\n",
       "    <tr style=\"text-align: right;\">\n",
       "      <th></th>\n",
       "      <th>Actual</th>\n",
       "      <th>Predicted</th>\n",
       "      <th>pctDiff</th>\n",
       "    </tr>\n",
       "  </thead>\n",
       "  <tbody>\n",
       "    <tr>\n",
       "      <th>1232</th>\n",
       "      <td>317</td>\n",
       "      <td>678.0</td>\n",
       "      <td>113.9</td>\n",
       "    </tr>\n",
       "    <tr>\n",
       "      <th>1030</th>\n",
       "      <td>2452</td>\n",
       "      <td>1438.0</td>\n",
       "      <td>41.4</td>\n",
       "    </tr>\n",
       "    <tr>\n",
       "      <th>163</th>\n",
       "      <td>1099</td>\n",
       "      <td>1250.0</td>\n",
       "      <td>13.7</td>\n",
       "    </tr>\n",
       "    <tr>\n",
       "      <th>1012</th>\n",
       "      <td>1216</td>\n",
       "      <td>1206.0</td>\n",
       "      <td>0.8</td>\n",
       "    </tr>\n",
       "    <tr>\n",
       "      <th>711</th>\n",
       "      <td>384</td>\n",
       "      <td>-140.0</td>\n",
       "      <td>136.5</td>\n",
       "    </tr>\n",
       "    <tr>\n",
       "      <th>...</th>\n",
       "      <td>...</td>\n",
       "      <td>...</td>\n",
       "      <td>...</td>\n",
       "    </tr>\n",
       "    <tr>\n",
       "      <th>34</th>\n",
       "      <td>1098</td>\n",
       "      <td>1554.0</td>\n",
       "      <td>41.5</td>\n",
       "    </tr>\n",
       "    <tr>\n",
       "      <th>85</th>\n",
       "      <td>886</td>\n",
       "      <td>638.0</td>\n",
       "      <td>28.0</td>\n",
       "    </tr>\n",
       "    <tr>\n",
       "      <th>978</th>\n",
       "      <td>703</td>\n",
       "      <td>1002.0</td>\n",
       "      <td>42.5</td>\n",
       "    </tr>\n",
       "    <tr>\n",
       "      <th>156</th>\n",
       "      <td>2299</td>\n",
       "      <td>1574.0</td>\n",
       "      <td>31.5</td>\n",
       "    </tr>\n",
       "    <tr>\n",
       "      <th>697</th>\n",
       "      <td>736</td>\n",
       "      <td>834.0</td>\n",
       "      <td>13.3</td>\n",
       "    </tr>\n",
       "  </tbody>\n",
       "</table>\n",
       "<p>326 rows × 3 columns</p>\n",
       "</div>"
      ],
      "text/plain": [
       "      Actual  Predicted  pctDiff\n",
       "1232     317      678.0    113.9\n",
       "1030    2452     1438.0     41.4\n",
       "163     1099     1250.0     13.7\n",
       "1012    1216     1206.0      0.8\n",
       "711      384     -140.0    136.5\n",
       "...      ...        ...      ...\n",
       "34      1098     1554.0     41.5\n",
       "85       886      638.0     28.0\n",
       "978      703     1002.0     42.5\n",
       "156     2299     1574.0     31.5\n",
       "697      736      834.0     13.3\n",
       "\n",
       "[326 rows x 3 columns]"
      ]
     },
     "execution_count": 46,
     "metadata": {},
     "output_type": "execute_result"
    }
   ],
   "source": [
    "y_pred = model.predict(X_test_scaled)\n",
    "result1 = pd.DataFrame({'Actual': y_test, 'Predicted': y_pred, 'pctDiff': round(abs((y_pred-y_test)*100/y_test),1)})\n",
    "result1"
   ]
  },
  {
   "cell_type": "markdown",
   "metadata": {},
   "source": [
    "### notice the negative price values above.\n",
    "\n",
    "#### \"Linear regression does not respect the bounds of 0. It's linear, always and everywhere. It may not be appropriate for values that need to be close to 0 but are strictly positive.\" (https://stats.stackexchange.com/questions/145383/getting-negative-predicted-values-after-linear-regression)"
   ]
  },
  {
   "cell_type": "code",
   "execution_count": 49,
   "metadata": {},
   "outputs": [
    {
     "data": {
      "text/plain": [
       "Actual       0\n",
       "Predicted    3\n",
       "pctDiff      0\n",
       "dtype: int64"
      ]
     },
     "execution_count": 49,
     "metadata": {},
     "output_type": "execute_result"
    }
   ],
   "source": [
    "result1[result1 < 0].count()"
   ]
  },
  {
   "cell_type": "code",
   "execution_count": 50,
   "metadata": {},
   "outputs": [
    {
     "data": {
      "text/plain": [
       "33.43466257668712"
      ]
     },
     "execution_count": 50,
     "metadata": {},
     "output_type": "execute_result"
    }
   ],
   "source": [
    "result1.pctDiff.mean()"
   ]
  },
  {
   "cell_type": "code",
   "execution_count": 58,
   "metadata": {},
   "outputs": [
    {
     "data": {
      "image/png": "[encoded data removed]",
      "text/plain": [
       "<Figure size 432x288 with 1 Axes>"
      ]
     },
     "metadata": {
      "needs_background": "light"
     },
     "output_type": "display_data"
    }
   ],
   "source": [
    "# Plot Residuals\n",
    "plt.scatter(y_pred, y_pred - y_test)\n",
    "plt.hlines(y=0, xmin=y_pred.min(), xmax=y_pred.max())\n",
    "plt.show()"
   ]
  },
  {
   "cell_type": "markdown",
   "metadata": {},
   "source": [
    "## with OHE but no scaling"
   ]
  },
  {
   "cell_type": "code",
   "execution_count": 52,
   "metadata": {},
   "outputs": [
    {
     "name": "stdout",
     "output_type": "stream",
     "text": [
      "(1302, 42) (1302,)\n"
     ]
    }
   ],
   "source": [
    "column_names_for_onehot = df[[\"Company\",\"Cpu_Company\",\"Memory_Structure_Categories\",\"Gpu_Company\",\"OpSys\"]].columns[0:]\n",
    "df_2 = pd.get_dummies(df, columns=column_names_for_onehot)\n",
    "X = df_2.drop([\"Price_dollars\"], axis=1)\n",
    "y = df_2[\"Price_dollars\"]\n",
    "print(X.shape, y.shape)\n",
    "from sklearn.model_selection import train_test_split\n",
    "from sklearn.preprocessing import LabelEncoder, MinMaxScaler\n",
    "from tensorflow.keras.utils import to_categorical\n",
    "X_train, X_test, y_train, y_test = train_test_split(\n",
    "    X, y, random_state=1)"
   ]
  },
  {
   "cell_type": "code",
   "execution_count": 53,
   "metadata": {},
   "outputs": [
    {
     "name": "stdout",
     "output_type": "stream",
     "text": [
      "R2 Score: 0.7234799509010785\n"
     ]
    }
   ],
   "source": [
    "from sklearn.linear_model import LinearRegression\n",
    "model = LinearRegression()\n",
    "\n",
    "# Fitting our model with all of our features in X\n",
    "model.fit(X_train, y_train)\n",
    "\n",
    "score = model.score(X_test, y_test)\n",
    "print(f\"R2 Score: {score}\")"
   ]
  },
  {
   "cell_type": "code",
   "execution_count": 54,
   "metadata": {},
   "outputs": [
    {
     "data": {
      "text/html": [
       "<div>\n",
       "<style scoped>\n",
       "    .dataframe tbody tr th:only-of-type {\n",
       "        vertical-align: middle;\n",
       "    }\n",
       "\n",
       "    .dataframe tbody tr th {\n",
       "        vertical-align: top;\n",
       "    }\n",
       "\n",
       "    .dataframe thead th {\n",
       "        text-align: right;\n",
       "    }\n",
       "</style>\n",
       "<table border=\"1\" class=\"dataframe\">\n",
       "  <thead>\n",
       "    <tr style=\"text-align: right;\">\n",
       "      <th></th>\n",
       "      <th>Actual</th>\n",
       "      <th>Predicted</th>\n",
       "      <th>pctDiff</th>\n",
       "    </tr>\n",
       "  </thead>\n",
       "  <tbody>\n",
       "    <tr>\n",
       "      <th>1232</th>\n",
       "      <td>317</td>\n",
       "      <td>531.153640</td>\n",
       "      <td>67.6</td>\n",
       "    </tr>\n",
       "    <tr>\n",
       "      <th>1030</th>\n",
       "      <td>2452</td>\n",
       "      <td>1428.260408</td>\n",
       "      <td>41.8</td>\n",
       "    </tr>\n",
       "    <tr>\n",
       "      <th>163</th>\n",
       "      <td>1099</td>\n",
       "      <td>1262.143926</td>\n",
       "      <td>14.8</td>\n",
       "    </tr>\n",
       "    <tr>\n",
       "      <th>1012</th>\n",
       "      <td>1216</td>\n",
       "      <td>1048.179616</td>\n",
       "      <td>13.8</td>\n",
       "    </tr>\n",
       "    <tr>\n",
       "      <th>711</th>\n",
       "      <td>384</td>\n",
       "      <td>91.940561</td>\n",
       "      <td>76.1</td>\n",
       "    </tr>\n",
       "    <tr>\n",
       "      <th>...</th>\n",
       "      <td>...</td>\n",
       "      <td>...</td>\n",
       "      <td>...</td>\n",
       "    </tr>\n",
       "    <tr>\n",
       "      <th>34</th>\n",
       "      <td>1098</td>\n",
       "      <td>1552.958563</td>\n",
       "      <td>41.4</td>\n",
       "    </tr>\n",
       "    <tr>\n",
       "      <th>85</th>\n",
       "      <td>886</td>\n",
       "      <td>641.126418</td>\n",
       "      <td>27.6</td>\n",
       "    </tr>\n",
       "    <tr>\n",
       "      <th>978</th>\n",
       "      <td>703</td>\n",
       "      <td>922.901852</td>\n",
       "      <td>31.3</td>\n",
       "    </tr>\n",
       "    <tr>\n",
       "      <th>156</th>\n",
       "      <td>2299</td>\n",
       "      <td>1556.761187</td>\n",
       "      <td>32.3</td>\n",
       "    </tr>\n",
       "    <tr>\n",
       "      <th>697</th>\n",
       "      <td>736</td>\n",
       "      <td>686.880166</td>\n",
       "      <td>6.7</td>\n",
       "    </tr>\n",
       "  </tbody>\n",
       "</table>\n",
       "<p>326 rows × 3 columns</p>\n",
       "</div>"
      ],
      "text/plain": [
       "      Actual    Predicted  pctDiff\n",
       "1232     317   531.153640     67.6\n",
       "1030    2452  1428.260408     41.8\n",
       "163     1099  1262.143926     14.8\n",
       "1012    1216  1048.179616     13.8\n",
       "711      384    91.940561     76.1\n",
       "...      ...          ...      ...\n",
       "34      1098  1552.958563     41.4\n",
       "85       886   641.126418     27.6\n",
       "978      703   922.901852     31.3\n",
       "156     2299  1556.761187     32.3\n",
       "697      736   686.880166      6.7\n",
       "\n",
       "[326 rows x 3 columns]"
      ]
     },
     "execution_count": 54,
     "metadata": {},
     "output_type": "execute_result"
    }
   ],
   "source": [
    "y_pred2 = model.predict(X_test)\n",
    "result2 = pd.DataFrame({'Actual': y_test, 'Predicted': y_pred2, 'pctDiff': round(abs((y_pred2-y_test)*100/y_test),1)})\n",
    "result2"
   ]
  },
  {
   "cell_type": "code",
   "execution_count": 61,
   "metadata": {},
   "outputs": [
    {
     "data": {
      "text/plain": [
       "Actual       0\n",
       "Predicted    0\n",
       "pctDiff      0\n",
       "dtype: int64"
      ]
     },
     "execution_count": 61,
     "metadata": {},
     "output_type": "execute_result"
    }
   ],
   "source": [
    "result2[result2 < 0].count()"
   ]
  },
  {
   "cell_type": "code",
   "execution_count": 57,
   "metadata": {},
   "outputs": [
    {
     "data": {
      "text/plain": [
       "29.607668711656437"
      ]
     },
     "execution_count": 57,
     "metadata": {},
     "output_type": "execute_result"
    }
   ],
   "source": [
    "result2.pctDiff.mean()"
   ]
  },
  {
   "cell_type": "code",
   "execution_count": 62,
   "metadata": {},
   "outputs": [
    {
     "data": {
      "image/png": "[encoded data removed]",
      "text/plain": [
       "<Figure size 432x288 with 1 Axes>"
      ]
     },
     "metadata": {
      "needs_background": "light"
     },
     "output_type": "display_data"
    }
   ],
   "source": [
    "# Plot Residuals\n",
    "plt.scatter(y_pred2, y_pred2 - y_test)\n",
    "plt.hlines(y=0, xmin=y_pred2.min(), xmax=y_pred2.max())\n",
    "plt.show()"
   ]
  },
  {
   "cell_type": "code",
   "execution_count": null,
   "metadata": {},
   "outputs": [],
   "source": []
  },
  {
   "cell_type": "markdown",
   "metadata": {},
   "source": [
    "## without OHE but with scaling"
   ]
  },
  {
   "cell_type": "code",
   "execution_count": 67,
   "metadata": {},
   "outputs": [],
   "source": [
    "df_3 = df.drop([\"Company\",\"Cpu_Company\",\"Memory_Structure_Categories\",\"Gpu_Company\",\"OpSys\"], axis=1)"
   ]
  },
  {
   "cell_type": "code",
   "execution_count": 68,
   "metadata": {},
   "outputs": [
    {
     "data": {
      "text/html": [
       "<div>\n",
       "<style scoped>\n",
       "    .dataframe tbody tr th:only-of-type {\n",
       "        vertical-align: middle;\n",
       "    }\n",
       "\n",
       "    .dataframe tbody tr th {\n",
       "        vertical-align: top;\n",
       "    }\n",
       "\n",
       "    .dataframe thead th {\n",
       "        text-align: right;\n",
       "    }\n",
       "</style>\n",
       "<table border=\"1\" class=\"dataframe\">\n",
       "  <thead>\n",
       "    <tr style=\"text-align: right;\">\n",
       "      <th></th>\n",
       "      <th>Inches</th>\n",
       "      <th>CPU_Frequency_Numeric</th>\n",
       "      <th>Ram_Numeric</th>\n",
       "      <th>Size_Numeric</th>\n",
       "      <th>Weight_Numberic</th>\n",
       "      <th>Price_dollars</th>\n",
       "    </tr>\n",
       "  </thead>\n",
       "  <tbody>\n",
       "    <tr>\n",
       "      <th>0</th>\n",
       "      <td>17.3</td>\n",
       "      <td>2.90</td>\n",
       "      <td>32</td>\n",
       "      <td>512</td>\n",
       "      <td>4.70</td>\n",
       "      <td>4279</td>\n",
       "    </tr>\n",
       "    <tr>\n",
       "      <th>1</th>\n",
       "      <td>17.3</td>\n",
       "      <td>2.70</td>\n",
       "      <td>32</td>\n",
       "      <td>512</td>\n",
       "      <td>4.60</td>\n",
       "      <td>3564</td>\n",
       "    </tr>\n",
       "    <tr>\n",
       "      <th>2</th>\n",
       "      <td>17.3</td>\n",
       "      <td>2.70</td>\n",
       "      <td>16</td>\n",
       "      <td>256</td>\n",
       "      <td>4.60</td>\n",
       "      <td>3025</td>\n",
       "    </tr>\n",
       "    <tr>\n",
       "      <th>3</th>\n",
       "      <td>17.3</td>\n",
       "      <td>2.70</td>\n",
       "      <td>32</td>\n",
       "      <td>256</td>\n",
       "      <td>4.60</td>\n",
       "      <td>2929</td>\n",
       "    </tr>\n",
       "    <tr>\n",
       "      <th>4</th>\n",
       "      <td>17.3</td>\n",
       "      <td>2.60</td>\n",
       "      <td>16</td>\n",
       "      <td>128</td>\n",
       "      <td>4.60</td>\n",
       "      <td>2519</td>\n",
       "    </tr>\n",
       "    <tr>\n",
       "      <th>...</th>\n",
       "      <td>...</td>\n",
       "      <td>...</td>\n",
       "      <td>...</td>\n",
       "      <td>...</td>\n",
       "      <td>...</td>\n",
       "      <td>...</td>\n",
       "    </tr>\n",
       "    <tr>\n",
       "      <th>1297</th>\n",
       "      <td>13.3</td>\n",
       "      <td>2.50</td>\n",
       "      <td>8</td>\n",
       "      <td>256</td>\n",
       "      <td>0.81</td>\n",
       "      <td>1649</td>\n",
       "    </tr>\n",
       "    <tr>\n",
       "      <th>1298</th>\n",
       "      <td>10.1</td>\n",
       "      <td>1.44</td>\n",
       "      <td>4</td>\n",
       "      <td>64</td>\n",
       "      <td>0.69</td>\n",
       "      <td>711</td>\n",
       "    </tr>\n",
       "    <tr>\n",
       "      <th>1299</th>\n",
       "      <td>10.1</td>\n",
       "      <td>1.44</td>\n",
       "      <td>4</td>\n",
       "      <td>64</td>\n",
       "      <td>0.69</td>\n",
       "      <td>604</td>\n",
       "    </tr>\n",
       "    <tr>\n",
       "      <th>1300</th>\n",
       "      <td>10.1</td>\n",
       "      <td>1.44</td>\n",
       "      <td>4</td>\n",
       "      <td>64</td>\n",
       "      <td>0.69</td>\n",
       "      <td>527</td>\n",
       "    </tr>\n",
       "    <tr>\n",
       "      <th>1301</th>\n",
       "      <td>10.1</td>\n",
       "      <td>1.44</td>\n",
       "      <td>4</td>\n",
       "      <td>64</td>\n",
       "      <td>0.69</td>\n",
       "      <td>351</td>\n",
       "    </tr>\n",
       "  </tbody>\n",
       "</table>\n",
       "<p>1302 rows × 6 columns</p>\n",
       "</div>"
      ],
      "text/plain": [
       "      Inches  CPU_Frequency_Numeric  Ram_Numeric  Size_Numeric  \\\n",
       "0       17.3                   2.90           32           512   \n",
       "1       17.3                   2.70           32           512   \n",
       "2       17.3                   2.70           16           256   \n",
       "3       17.3                   2.70           32           256   \n",
       "4       17.3                   2.60           16           128   \n",
       "...      ...                    ...          ...           ...   \n",
       "1297    13.3                   2.50            8           256   \n",
       "1298    10.1                   1.44            4            64   \n",
       "1299    10.1                   1.44            4            64   \n",
       "1300    10.1                   1.44            4            64   \n",
       "1301    10.1                   1.44            4            64   \n",
       "\n",
       "      Weight_Numberic  Price_dollars  \n",
       "0                4.70           4279  \n",
       "1                4.60           3564  \n",
       "2                4.60           3025  \n",
       "3                4.60           2929  \n",
       "4                4.60           2519  \n",
       "...               ...            ...  \n",
       "1297             0.81           1649  \n",
       "1298             0.69            711  \n",
       "1299             0.69            604  \n",
       "1300             0.69            527  \n",
       "1301             0.69            351  \n",
       "\n",
       "[1302 rows x 6 columns]"
      ]
     },
     "execution_count": 68,
     "metadata": {},
     "output_type": "execute_result"
    }
   ],
   "source": [
    "df_3"
   ]
  },
  {
   "cell_type": "code",
   "execution_count": 69,
   "metadata": {},
   "outputs": [
    {
     "name": "stdout",
     "output_type": "stream",
     "text": [
      "(1302, 5) (1302,)\n",
      "(1302, 5) (1302,)\n"
     ]
    }
   ],
   "source": [
    "X = df_3.drop([\"Price_dollars\"], axis=1)\n",
    "y = df_3[\"Price_dollars\"]\n",
    "print(X.shape, y.shape)\n",
    "print(X.shape, y.shape)\n",
    "from sklearn.model_selection import train_test_split\n",
    "from sklearn.preprocessing import LabelEncoder, MinMaxScaler\n",
    "from tensorflow.keras.utils import to_categorical\n",
    "X_train, X_test, y_train, y_test = train_test_split(\n",
    "    X, y, random_state=1)\n",
    "X_scaler = MinMaxScaler().fit(X_train)\n",
    "X_train_scaled = X_scaler.transform(X_train)\n",
    "X_test_scaled = X_scaler.transform(X_test)"
   ]
  },
  {
   "cell_type": "code",
   "execution_count": 70,
   "metadata": {},
   "outputs": [
    {
     "name": "stdout",
     "output_type": "stream",
     "text": [
      "R2 Score: 0.6397724832161193\n"
     ]
    }
   ],
   "source": [
    "from sklearn.linear_model import LinearRegression\n",
    "model = LinearRegression()\n",
    "\n",
    "# Fitting our model with all of our features in X\n",
    "model.fit(X_train_scaled, y_train)\n",
    "\n",
    "score = model.score(X_test_scaled, y_test)\n",
    "print(f\"R2 Score: {score}\")"
   ]
  },
  {
   "cell_type": "code",
   "execution_count": null,
   "metadata": {},
   "outputs": [],
   "source": [
    "y_pred3 = model.predict(X_test)\n",
    "result2 = pd.DataFrame({'Actual': y_test, 'Predicted': y_pred3, 'pctDiff': round(abs((y_pred3-y_test)*100/y_test),1)})\n",
    "result2"
   ]
  }
 ],
 "metadata": {
  "kernelspec": {
   "display_name": "Python 3",
   "language": "python",
   "name": "python3"
  },
  "language_info": {
   "codemirror_mode": {
    "name": "ipython",
    "version": 3
   },
   "file_extension": ".py",
   "mimetype": "text/x-python",
   "name": "python",
   "nbconvert_exporter": "python",
   "pygments_lexer": "ipython3",
   "version": "3.7.3"
  }
 },
 "nbformat": 4,
 "nbformat_minor": 4
}
